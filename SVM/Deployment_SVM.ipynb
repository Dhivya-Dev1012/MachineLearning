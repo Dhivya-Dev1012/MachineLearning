{
 "cells": [
  {
   "cell_type": "code",
   "execution_count": 1,
   "id": "44ef16f7-8953-4cd4-bcf4-75ad756ab961",
   "metadata": {},
   "outputs": [
    {
     "data": {
      "text/plain": [
       "array([1.17653349e+09])"
      ]
     },
     "execution_count": 1,
     "metadata": {},
     "output_type": "execute_result"
    }
   ],
   "source": [
    "import pickle\n",
    "loadedModel=pickle.load(open(\"Finalized_SVM.sav\",'rb'))\n",
    "result=loadedModel.predict([[10000,10000,130000,True,False]])\n",
    "result"
   ]
  },
  {
   "cell_type": "code",
   "execution_count": null,
   "id": "405617df-776c-47b2-a4ab-63ab7f423944",
   "metadata": {},
   "outputs": [],
   "source": []
  }
 ],
 "metadata": {
  "kernelspec": {
   "display_name": "Python [conda env:base] *",
   "language": "python",
   "name": "conda-base-py"
  },
  "language_info": {
   "codemirror_mode": {
    "name": "ipython",
    "version": 3
   },
   "file_extension": ".py",
   "mimetype": "text/x-python",
   "name": "python",
   "nbconvert_exporter": "python",
   "pygments_lexer": "ipython3",
   "version": "3.12.7"
  }
 },
 "nbformat": 4,
 "nbformat_minor": 5
}
